{
 "cells": [
  {
   "cell_type": "code",
   "execution_count": 4,
   "id": "5513509c",
   "metadata": {},
   "outputs": [
    {
     "name": "stdout",
     "output_type": "stream",
     "text": [
      "** Start Lotto **\n",
      "Number: 3 21 32 41 42 44 "
     ]
    }
   ],
   "source": [
    "import random #랜덤 라이브러리 호출\n",
    "\n",
    "def get_number():\n",
    "    return random.randrange(1, 46) #1부터 46까지 중 하나를 고르기\n",
    "\n",
    "lotto = []\n",
    "num = 0\n",
    "\n",
    "print(\"** Start Lotto **\")\n",
    "while True:\n",
    "    num = get_number()\n",
    "    if lotto.count(num) == 0: #중복이 없을때 lotto 리스트에 추가하기\n",
    "        lotto.append(num)\n",
    "    if len(lotto) >= 6: #lotto리스트에 6개의 원소가 있으면 중지\n",
    "            break\n",
    "\n",
    "print(\"Number: \", end=\"\")\n",
    "lotto.sort()\n",
    "for number in lotto:\n",
    "    print(number, end=\" \")"
   ]
  },
  {
   "cell_type": "code",
   "execution_count": null,
   "id": "90cd5394",
   "metadata": {},
   "outputs": [],
   "source": []
  },
  {
   "cell_type": "code",
   "execution_count": null,
   "id": "46ee7f22",
   "metadata": {},
   "outputs": [],
   "source": []
  }
 ],
 "metadata": {
  "kernelspec": {
   "display_name": "Python 3 (ipykernel)",
   "language": "python",
   "name": "python3"
  },
  "language_info": {
   "codemirror_mode": {
    "name": "ipython",
    "version": 3
   },
   "file_extension": ".py",
   "mimetype": "text/x-python",
   "name": "python",
   "nbconvert_exporter": "python",
   "pygments_lexer": "ipython3",
   "version": "3.10.9"
  }
 },
 "nbformat": 4,
 "nbformat_minor": 5
}
