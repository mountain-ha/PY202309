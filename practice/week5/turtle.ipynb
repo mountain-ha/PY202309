{
 "cells": [
  {
   "cell_type": "code",
   "execution_count": 1,
   "id": "11238dfd",
   "metadata": {},
   "outputs": [
    {
     "name": "stdout",
     "output_type": "stream",
     "text": [
      "turtle bye!\n"
     ]
    }
   ],
   "source": [
    "import turtle\n",
    "\n",
    "screen_width, screen_height = 100, 100\n",
    "\n",
    "turtle.title(\"Drawing rainbos circles\")\n",
    "turtle.shape(\"turtle\") \n",
    "turtle.setup(width=screen_width+50, height = screen_height+50)\n",
    "turtle.screensize(screen_width, screen_height)\n",
    "turtle.penup()\n",
    "turtle.goto(0, -screen_height / 2) \n",
    "turtle.pendown()\n",
    "turtle.speed(5)\n",
    "\n",
    "for radius in range(1, 50): #49번 반복\n",
    "    if radius % 7 == 0:\n",
    "        turtle.pencolor('red') #팬 빨간색\n",
    "    elif radius % 7 == 1:\n",
    "        turtle.pencolor('orange') #팬 주황색\n",
    "    elif radius % 7 == 2:\n",
    "        turtle.pencolor('yellow') #팬 노랑색\n",
    "    elif radius % 7 == 3:\n",
    "        turtle.pencolor('green') #팬 초록색\n",
    "    elif radius % 7 == 4:\n",
    "        turtle.pencolor('blue') #팬 파랑색\n",
    "    elif radius % 7 == 5:\n",
    "        turtle.pencolor('navyblue') #팬 남색\n",
    "    elif radius % 7 == 6: \n",
    "        turtle.pencolor('purple') #팬 보라색\n",
    "    \n",
    "    turtle.circle(radius)\n",
    "turtle.done()\n",
    "try:\n",
    "    turtle.bye()\n",
    "except: print(\"turtle bye!\")"
   ]
  },
  {
   "cell_type": "code",
   "execution_count": null,
   "id": "9a669d7e",
   "metadata": {},
   "outputs": [],
   "source": []
  }
 ],
 "metadata": {
  "kernelspec": {
   "display_name": "Python 3 (ipykernel)",
   "language": "python",
   "name": "python3"
  },
  "language_info": {
   "codemirror_mode": {
    "name": "ipython",
    "version": 3
   },
   "file_extension": ".py",
   "mimetype": "text/x-python",
   "name": "python",
   "nbconvert_exporter": "python",
   "pygments_lexer": "ipython3",
   "version": "3.10.9"
  }
 },
 "nbformat": 4,
 "nbformat_minor": 5
}
