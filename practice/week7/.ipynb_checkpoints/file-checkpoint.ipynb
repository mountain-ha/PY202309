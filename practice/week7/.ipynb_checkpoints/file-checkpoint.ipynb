{
 "cells": [
  {
   "cell_type": "code",
   "execution_count": 1,
   "id": "253d5f48",
   "metadata": {},
   "outputs": [
    {
     "name": "stdout",
     "output_type": "stream",
     "text": [
      "1, 암호화, 2 복호화 중 선택하세요: 1\n",
      "입력 파일 이름을 입력하세요: test.txt\n",
      "출력 파일 이름을 입력하세요: test2.txt\n",
      "2 150 \n",
      "0 148 \n",
      "2 150 \n",
      "3 151 \n",
      "1 149 \n",
      "0 148 \n",
      "1 149 \n",
      "6 154 \n",
      "\n",
      " 110 n\n",
      "파 54128 퍰\n",
      "이 51160 쟘\n",
      "썬 50128 쏐\n",
      "  132 \n",
      "수 49788 쉼\n",
      "업 50729 옩\n",
      "\n",
      " 110 n\n",
      "한 54720 헀\n",
      "국 44497 귑\n",
      "말 47668 먴\n",
      "test.txt -> test2.txt finish to transform\n"
     ]
    }
   ],
   "source": [
    "choice = int(input(\"1, 암호화, 2 복호화 중 선택하세요: \")) #암호화 복호화 선택\n",
    "in_filename = input(\"입력 파일 이름을 입력하세요: \")   #입력 파일 선택(파일이 이미 있어야 함)\n",
    "out_filename = input(\"출력 파일 이름을 입력하세요: \")  #출력파일 선택(없는 파일도 가능)\n",
    "\n",
    "token_jump = 0\n",
    "\n",
    "if choice == 1: #암호화\n",
    "    token_jump = 100\n",
    "elif choice == 2: #복호화\n",
    "    token_jump = -100\n",
    "\n",
    "in_fp = open(in_filename, \"r\", encoding=\"utf8\") #파일 열기\n",
    "out_fp = open(out_filename, \"w\", encoding=\"utf8\")\n",
    "\n",
    "in_lines = in_fp.readlines()\n",
    "\n",
    "for in_line in in_lines:#파일 읽고 암호 or 복호화 실행\n",
    "    out_str = \"\"\n",
    "    for i in range(0, len(in_line)):\n",
    "        ch = in_line[i]\n",
    "        ch_num = ord(ch)\n",
    "        ch_num = ch_num + token_jump\n",
    "        ch2 = chr(ch_num)\n",
    "        out_str += ch2\n",
    "        print(ch,ch_num,ch2)\n",
    "   \n",
    "    out_fp.write(out_str)\n",
    "\n",
    "in_fp.close() #파일 닫기\n",
    "out_fp.close()\n",
    "\n",
    "print(\"%s -> %s finish to transform\" % (in_filename, out_filename)) #암호 or 복호화된 내용 출력\n"
   ]
  },
  {
   "cell_type": "code",
   "execution_count": null,
   "id": "78b7152d",
   "metadata": {},
   "outputs": [],
   "source": []
  }
 ],
 "metadata": {
  "kernelspec": {
   "display_name": "Python 3 (ipykernel)",
   "language": "python",
   "name": "python3"
  },
  "language_info": {
   "codemirror_mode": {
    "name": "ipython",
    "version": 3
   },
   "file_extension": ".py",
   "mimetype": "text/x-python",
   "name": "python",
   "nbconvert_exporter": "python",
   "pygments_lexer": "ipython3",
   "version": "3.10.9"
  }
 },
 "nbformat": 4,
 "nbformat_minor": 5
}
