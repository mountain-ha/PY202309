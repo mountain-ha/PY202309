{
 "cells": [
  {
   "cell_type": "code",
   "execution_count": null,
   "id": "dfbe428f",
   "metadata": {},
   "outputs": [],
   "source": [
    "import turtle \n",
    "t = turtle.Turtle()\n",
    "t.left (90)\n",
    "\n",
    "\n",
    "word_freq = {\"apple\": 5, \"banana\": 8, \"cherry\": 2, \"grape\": 1}\n",
    "\n",
    "\n",
    "x = -200 \n",
    "for word, freq in word_freq.items():\n",
    "    t.penup() #거북이 팬 들기\n",
    "    t.goto(x, 0) #거북이 이동\n",
    "\n",
    "    t.write(f\"{word}: {freq}\", font=(\"Arial\", 12, \"normal\")) #거북이 글쓰기\n",
    "\n",
    "    t.goto(x, 30)\n",
    "    t.pendown() #거북이 팬 내리기\n",
    "    t.forward(freq * 10) \n",
    "    \n",
    "    x += 100 \n",
    "    \n",
    "turtle.done()\n",
    "try:\n",
    "    turtle.bye()\n",
    "except:\n",
    "    print(\"turtle bye!\")"
   ]
  },
  {
   "cell_type": "code",
   "execution_count": null,
   "id": "d1bca4a8",
   "metadata": {},
   "outputs": [],
   "source": []
  }
 ],
 "metadata": {
  "kernelspec": {
   "display_name": "Python 3 (ipykernel)",
   "language": "python",
   "name": "python3"
  },
  "language_info": {
   "codemirror_mode": {
    "name": "ipython",
    "version": 3
   },
   "file_extension": ".py",
   "mimetype": "text/x-python",
   "name": "python",
   "nbconvert_exporter": "python",
   "pygments_lexer": "ipython3",
   "version": "3.10.9"
  }
 },
 "nbformat": 4,
 "nbformat_minor": 5
}
