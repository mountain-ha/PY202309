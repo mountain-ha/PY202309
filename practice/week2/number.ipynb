{
 "cells": [
  {
   "cell_type": "code",
   "execution_count": 3,
   "id": "4205713a",
   "metadata": {},
   "outputs": [
    {
     "name": "stdout",
     "output_type": "stream",
     "text": [
      "What do you call a bear with no teeth? \n",
      "A gummy bear!\n"
     ]
    }
   ],
   "source": [
    "print(\"What do you call a bear with no teeth? \\nA gummy bear!\")\n",
    "#문자열 What do you call a bear with no teeth? A gummy bear!를 출력한다 이때 \\n은 줄을 바꿔준다."
   ]
  },
  {
   "cell_type": "code",
   "execution_count": 5,
   "id": "cd2baca8",
   "metadata": {},
   "outputs": [
    {
     "name": "stdout",
     "output_type": "stream",
     "text": [
      "Enter your name산하\n",
      "hello 산하\n"
     ]
    }
   ],
   "source": [
    "name = input(\"Enter your name\") #이름을 입력받아 name변수에 저장\n",
    "print(\"hello\",name) #hello 이름 출력"
   ]
  },
  {
   "cell_type": "code",
   "execution_count": 15,
   "id": "29b76bbf",
   "metadata": {},
   "outputs": [
    {
     "name": "stdout",
     "output_type": "stream",
     "text": [
      "Input your name:산하\n",
      "Input your last name:김\n",
      "hello 산하 김\n"
     ]
    }
   ],
   "source": [
    "name = input(\"Input your name:\") #이름입력\n",
    "last_name = input(\"Input your last name:\")  #성입력\n",
    "print(\"hello\",name,last_name) #hello 이름 성 출력"
   ]
  },
  {
   "cell_type": "code",
   "execution_count": 13,
   "id": "8e9b0fc0",
   "metadata": {},
   "outputs": [
    {
     "name": "stdout",
     "output_type": "stream",
     "text": [
      "Input the first number:10\n",
      "Input the second number:30\n",
      "10 + 30 = 40\n"
     ]
    }
   ],
   "source": [
    "num1 = int(input(\"Input the first number:\")) #첫번째 수 입력\n",
    "num2 = int(input(\"Input the second number:\")) #두번때 수 입력\n",
    "sum = num1 + num2 #계산\n",
    "print(f\"{num1} + {num2} = {sum}\") #계산결과 출력"
   ]
  },
  {
   "cell_type": "code",
   "execution_count": 16,
   "id": "4ab22d76",
   "metadata": {},
   "outputs": [
    {
     "name": "stdout",
     "output_type": "stream",
     "text": [
      "Input the first number:10\n",
      "Input the second number:20\n",
      "Input the third number: 30\n",
      "10 + 20 = 610\n",
      "10 + 20 = 900\n"
     ]
    }
   ],
   "source": [
    "num1 = int(input(\"Input the first number:\")) #첫번째 수 입력\n",
    "num2 = int(input(\"Input the second number:\")) #두번때 수 입력\n",
    "num3= int(input(\"Input the third number: \")) #세번때 수 입력\n",
    "print(f\"{num1} + {num2} * {mun3} = {num1+num2*num3}\") #계산결과 출력\n",
    "print(f\"{num1} + {num2} *{mun3} = {(num1+num2)*num3}\")"
   ]
  },
  {
   "cell_type": "code",
   "execution_count": 19,
   "id": "1b1cfbd6",
   "metadata": {},
   "outputs": [
    {
     "name": "stdout",
     "output_type": "stream",
     "text": [
      "Enter the number of slices of pizza you started with10\n",
      "How many slices have you eaten?5\n",
      "You have 5 slicing remaining.\n"
     ]
    }
   ],
   "source": [
    "started = int(input(\"Enter the number of slices of pizza you started with\")) #처음 피자 수\n",
    "eaten = int(input(\"How many slices have you eaten?\")) #먹은 피자 수\n",
    "num = started - eaten #남은 피자 수\n",
    "print(f\"You have {num} slicing remaining.\")"
   ]
  },
  {
   "cell_type": "code",
   "execution_count": null,
   "id": "aaa6b91b",
   "metadata": {},
   "outputs": [],
   "source": []
  }
 ],
 "metadata": {
  "kernelspec": {
   "display_name": "Python 3 (ipykernel)",
   "language": "python",
   "name": "python3"
  },
  "language_info": {
   "codemirror_mode": {
    "name": "ipython",
    "version": 3
   },
   "file_extension": ".py",
   "mimetype": "text/x-python",
   "name": "python",
   "nbconvert_exporter": "python",
   "pygments_lexer": "ipython3",
   "version": "3.10.9"
  }
 },
 "nbformat": 4,
 "nbformat_minor": 5
}
