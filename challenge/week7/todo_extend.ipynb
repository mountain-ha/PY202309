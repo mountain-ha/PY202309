{
 "cells": [
  {
   "cell_type": "code",
   "execution_count": null,
   "id": "4b72e794",
   "metadata": {},
   "outputs": [],
   "source": [
    "def add_task(task_list, task): #task_list에 task추가하기\n",
    "    task_list.append(task)\n",
    "\n",
    "def display_tasks(task_list): #task_list의 원소를 목록으로 보이기\n",
    "    for i in range(0,len(task_list)):\n",
    "        print(f\"{i+1}:{task_list[i]}\\n\")\n",
    "\n",
    "def save_tasks_to_file(task_list,filename): #task_list를 파일에 저장하기\n",
    "    fp.writelines(\"\\n\".join(task_list))\n",
    "\n",
    "def load_tasks_from_file(filename): #파일읽기\n",
    "    tasks_list = fp.readlines()\n",
    "    return tasks_list\n",
    "\n",
    "\n",
    "filename = input(\"파일 이름을 입력하세요\") #파일이름 입력받기\n",
    "\n",
    "try: #파일이름이 정확할때\n",
    "    fp = open(filename, \"r+\",encoding=\"utf8\") #파일 읽기, 쓰기 겸용모드로 열기\n",
    "    task_list = load_tasks_from_file(file_name) #task_list목록 보이기\n",
    "\n",
    "    while True: #번호 입력받고 번호에 따라 목록 관리\n",
    "        print(\"\\n할일 관리 프로그램\")\n",
    "        print(\"1. 할일 추가\")\n",
    "        print(\"2. 할일 목록 표시\")\n",
    "        print(\"3. 종료\")\n",
    "    \n",
    "        choice = input(\"선택: \")\n",
    "        if choice == '1':\n",
    "            task = input(\"할일을 입력하세요: \")\n",
    "            add_task(task_list, task)\n",
    "            print(\"할일이 추가되었습니다.\")\n",
    "        elif choice == '2':\n",
    "            display_tasks(task_list)\n",
    "        elif choice == '3':\n",
    "            save_tasks_to_file(task_list, file_name)\n",
    "            print(\"프로그램을 종료합니다.\")\n",
    "            fp.close()\n",
    "            break\n",
    "        else:\n",
    "            fp.close()\n",
    "            print(\"잘못된 선택입니다. 다시 시도하세요.\")\n",
    "except IOError: #파일이름이 틀렸을때\n",
    "    print(\"없는 파일입니다\")"
   ]
  },
  {
   "cell_type": "code",
   "execution_count": null,
   "id": "31f51e23",
   "metadata": {},
   "outputs": [],
   "source": []
  }
 ],
 "metadata": {
  "kernelspec": {
   "display_name": "Python 3 (ipykernel)",
   "language": "python",
   "name": "python3"
  },
  "language_info": {
   "codemirror_mode": {
    "name": "ipython",
    "version": 3
   },
   "file_extension": ".py",
   "mimetype": "text/x-python",
   "name": "python",
   "nbconvert_exporter": "python",
   "pygments_lexer": "ipython3",
   "version": "3.10.9"
  }
 },
 "nbformat": 4,
 "nbformat_minor": 5
}
