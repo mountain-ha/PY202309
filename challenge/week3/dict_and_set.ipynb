{
 "cells": [
  {
   "cell_type": "code",
   "execution_count": 1,
   "id": "4b326369",
   "metadata": {},
   "outputs": [
    {
     "name": "stdout",
     "output_type": "stream",
     "text": [
      "Enter English number ranging from 1 to 5:three\n",
      "three is 삼\n"
     ]
    }
   ],
   "source": [
    "num = {\"one\":\"일\",\"two\":\"이\",\"three\":\"삼\",\"four\":\"사\",\"five\":\"오\"}  #영어숫자:한글숫자 딕셔너리 생성\n",
    "input_num = input(\"Enter English number ranging from 1 to 5:\") #입력 받기\n",
    "print(f\"{input_num} is {num[input_num]}\")"
   ]
  },
  {
   "cell_type": "code",
   "execution_count": 26,
   "id": "75860372",
   "metadata": {
    "scrolled": true
   },
   "outputs": [
    {
     "name": "stdout",
     "output_type": "stream",
     "text": [
      "name:Moving/ average:4.0\n",
      "name:Mask Girl/ average:3.6666666666666665\n",
      "name:Oppenheimer/ average:3.3333333333333335\n"
     ]
    }
   ],
   "source": [
    "ratings = {\"Moving\": {\"Misoo\":4, \"Kwon\":3, \"Soo\": 5},\n",
    "           \"Mask Girl\": {\"Misoo\":3, \"David\":4, \"Soo\": 4},\n",
    "           \"Oppenheimer\": {\"Kwon\":3, \"Bob\":3, \"David\": 4}} \n",
    "for movies in ratings.keys(): #딕셔너리에서 영화 제목 꺼내기\n",
    "    score=sum(list(ratings[movies].values())) #한 영화에 대한 평점의 합 구하기\n",
    "    print(f\"name:{movies}/ average:{score/3}\") #영화 제목, 평점 평균 출력\n",
    "      \n"
   ]
  },
  {
   "cell_type": "code",
   "execution_count": 16,
   "id": "c1cf874d",
   "metadata": {},
   "outputs": [
    {
     "name": "stdout",
     "output_type": "stream",
     "text": [
      "Enter user1's 1st friend name\n",
      "산하\n",
      "Enter user1's 2st friend name\n",
      "영재\n",
      "Enter user1's 3st friend name\n",
      "경준\n",
      "Enter user2's 1st friend name\n",
      "산하\n",
      "Enter user2's 2st friend name\n",
      "영재\n",
      "Enter user2's 3st friend name\n",
      "진수\n",
      "All friends 경준 진수 영재 산하\n"
     ]
    }
   ],
   "source": [
    "friend1=set() #빈 set만들기\n",
    "friend2=set()\n",
    "for st in range(1,4):\n",
    "    print(f\"Enter user1's {st}st friend name\")\n",
    "    new=input()#이름 입력받기\n",
    "    friend1.add(new)#friend1 set에 입력한 이름 추가\n",
    "for st in range(1,4):\n",
    "    print(f\"Enter user2's {st}st friend name\")\n",
    "    new=input()#이름 입력받기\n",
    "    friend1.add(new)#friend2 set에 입력한 이름 추가\n",
    "print(\"All friends\", *(friend1.union(friend2)))"
   ]
  },
  {
   "cell_type": "code",
   "execution_count": null,
   "id": "48c5baf5",
   "metadata": {},
   "outputs": [],
   "source": []
  }
 ],
 "metadata": {
  "kernelspec": {
   "display_name": "Python 3 (ipykernel)",
   "language": "python",
   "name": "python3"
  },
  "language_info": {
   "codemirror_mode": {
    "name": "ipython",
    "version": 3
   },
   "file_extension": ".py",
   "mimetype": "text/x-python",
   "name": "python",
   "nbconvert_exporter": "python",
   "pygments_lexer": "ipython3",
   "version": "3.10.9"
  }
 },
 "nbformat": 4,
 "nbformat_minor": 5
}
