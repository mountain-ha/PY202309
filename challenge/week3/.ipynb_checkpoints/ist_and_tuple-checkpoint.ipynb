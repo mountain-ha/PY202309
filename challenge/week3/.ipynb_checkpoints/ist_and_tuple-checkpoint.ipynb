{
 "cells": [
  {
   "cell_type": "code",
   "execution_count": null,
   "id": "f263d97e",
   "metadata": {},
   "outputs": [],
   "source": [
    "num_list=[] #빈 리스트 생성\n",
    "num_list.append(int(input(\"Enter 1st number:[NUM]\"))) #수를 입력받아 리스트에 넣기\n",
    "num_list.append(int(input(\"Enter 2st number:[NUM]\")))\n",
    "num_list.append(int(input(\"Enter 3st number:[NUM]\")))\n",
    "num_list.append(int(input(\"Enter 4st number:[NUM]\")))\n",
    "num_list.append(int(input(\"Enter 5st number:[NUM]\")))\n",
    "print(\"max:\",max(num_list)) #최댓값 구하기\n",
    "print(\"min:\",min(num_list)) #최솟값 구하기\n",
    "print(\"average:\",sum(num_list)/len(num_list)) #총합과 개수를 구해서 평균 구하기"
   ]
  },
  {
   "cell_type": "code",
   "execution_count": null,
   "id": "bd27eaca",
   "metadata": {},
   "outputs": [],
   "source": [
    "singers_list=['BTS','Black pink'] #리스트 만들고 두 그룹의 이름 넣기\n",
    "singers_list.append(input(\"What is your favorite singer?\")) #가수 이름 입력 받고 리스트에 추가하기\n",
    "print(singers_list) "
   ]
  },
  {
   "cell_type": "code",
   "execution_count": null,
   "id": "f01dc48e",
   "metadata": {},
   "outputs": [],
   "source": [
    "sports=('tenis', 'football','baseball','basketball','golf') #스포츠 튜플 만들기\n",
    "print(sports)\n",
    "a = input('please enther one of the sport name from above') #입력 받은 스포츠가 몇번째 인덱스에 있는지 알려주기\n",
    "print(a,'has index number:',sports.index(a))\n",
    "b=sports[int(input(\"Enter a number between 0 and 4\"))]#입력받은 인덱스에 어떤 스포츠가 있는지 알려주기\n",
    "print(b)"
   ]
  },
  {
   "cell_type": "code",
   "execution_count": null,
   "id": "71805b22",
   "metadata": {},
   "outputs": [],
   "source": [
    "caffa_menu = (\"Americano\",\"CaffeLatte\",\"CaffeMocha\",\"IcedTea\")\n",
    "print(\"menu:\", \"Americano\",\"CaffeLatte\",\"CaffeMocha\",\"IcedTea\")\n",
    "num1 = input(\"Enter the 1st item sold yesterday\")\n",
    "num2 = input(\"Enter the 2st item sold yesterday\")\n",
    "num3 = input(\"Enter the 3st item sold yesterday\")\n",
    "num4 = input(\"Enter the 4st item sold yesterday\")\n",
    "num5 = input(\"Enter the 5st item sold yesterday\")\n",
    "\n",
    "num6 = input(\"Enter the 1st item sold today\")\n",
    "num7 = input(\"Enter the 2st item sold today\")\n",
    "num8 = input(\"Enter the 3st item sold today\")\n",
    "num9 = input(\"Enter the 4st item sold today\")\n",
    "num10 = input(\"Enter the 5st item sold today\")\n",
    "print(\"Yesterdaysales:\", num1, num2,num3,num4,num5)\n",
    "print(\"Todaysales:\", num6, num7,num8,num9,num10)\n",
    "Totalsales:print(\"Totalsales:\", num1, num2,num3,num4,num5, num6, num7,num8,num9,num10)\n",
    "print(\"Americanosales:\", [num1, num2,num3,num4,num5, num6, num7,num8,num9,num10].count(\"Americano\"))"
   ]
  }
 ],
 "metadata": {
  "kernelspec": {
   "display_name": "Python 3 (ipykernel)",
   "language": "python",
   "name": "python3"
  },
  "language_info": {
   "codemirror_mode": {
    "name": "ipython",
    "version": 3
   },
   "file_extension": ".py",
   "mimetype": "text/x-python",
   "name": "python",
   "nbconvert_exporter": "python",
   "pygments_lexer": "ipython3",
   "version": "3.10.9"
  }
 },
 "nbformat": 4,
 "nbformat_minor": 5
}
