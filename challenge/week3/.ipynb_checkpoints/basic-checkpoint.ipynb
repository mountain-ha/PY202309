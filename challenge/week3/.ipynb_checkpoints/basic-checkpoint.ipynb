{
 "cells": [
  {
   "cell_type": "code",
   "execution_count": 16,
   "id": "0f44e0c0",
   "metadata": {},
   "outputs": [
    {
     "name": "stdout",
     "output_type": "stream",
     "text": [
      "1. current list =  [30, 10, 20, 50, 40]\n",
      "2. append(60) =  [30, 10, 20, 50, 40, 60]\n",
      "3. item after pop() =  60\n",
      "4. list after pop() =  [30, 10, 20, 50, 40]\n",
      "5. after sort() =  [10, 20, 30, 40, 50]\n",
      "6. after reverse() =  [50, 40, 30, 20, 10]\n",
      "7. Index for 20 = 3\n",
      "8. after insert(2, 222) = [50, 40, 222, 30, 20, 10]\n",
      "9. after remove(2, 222) =  [50, 40, 30, 20, 10]\n",
      "10. after extend([100, 200, 300]) =  [50, 40, 30, 20, 10, 100, 200, 100]\n",
      "11. the number of 100 =  2\n"
     ]
    }
   ],
   "source": [
    "sample_list = [30, 10, 20, 50, 40] #sample_list생성\n",
    "print(\"1. current list = \", sample_list)\n",
    "\n",
    "sample_list.append(60) #sample_list에 60 추가\n",
    "print(\"2. append(60) = \", sample_list)\n",
    "\n",
    "print(\"3. item after pop() = \", sample_list.pop()) #가장 마지막에 있는 수 꺼내기 \n",
    "print(\"4. list after pop() = \", sample_list) #위에서 60을 꺼내서 sample_list에서 60이 사라짐\n",
    "\n",
    "sample_list.sort() #리스트를 순서(숫자크기, 알파벳)대로 정렬\n",
    "print(\"5. after sort() = \", sample_list)\n",
    "\n",
    "sample_list.reverse() #기존의 리스트와 반대의 순서로 정렬\n",
    "print(\"6. after reverse() = \", sample_list)\n",
    "\n",
    "print(\"7. Index for 20 =\" , sample_list.index(20)) #20의 인덱스 출력\n",
    "      \n",
    "sample_list.insert(2, 222) #2번 인덱스에 22추가\n",
    "print(\"8. after insert(2, 222) =\" ,sample_list)\n",
    "\n",
    "sample_list.remove(222) #가장 앞에 있는 22삭제\n",
    "print(\"9. after remove(2, 222) = \", sample_list)\n",
    "new_list = [100, 200, 100]\n",
    "sample_list.extend(new_list) #두 리스트 더하기\n",
    "print(\"10. after extend([100, 200, 300]) = \", sample_list)\n",
    "\n",
    "print(\"11. the number of 100 = \", sample_list.count(100)) #리스트 속 100의 개수 출력"
   ]
  },
  {
   "cell_type": "code",
   "execution_count": 23,
   "id": "7a8c6a9b",
   "metadata": {},
   "outputs": [
    {
     "name": "stdout",
     "output_type": "stream",
     "text": [
      "turtle bye!\n"
     ]
    }
   ],
   "source": [
    "import turtle\n",
    "t= turtle.Turtle() \n",
    "radius_list = [100, 200, 50]\n",
    "move = 20\n",
    "\n",
    "t.shape(\"turtle\")\n",
    "\n",
    "for i in range(0, len(radius_list)): #i가 0부터 radius_list의 길이랑 같아질때까지 아래문장들을 반복\n",
    "    radius = radius_list[i]\n",
    "    t.circle(radius)\n",
    "    t.fd(move)\n",
    "\n",
    "turtle.done()\n",
    "try:\n",
    "    turtle.bye()\n",
    "except:\n",
    "    print(\"turtle bye!\")"
   ]
  }
 ],
 "metadata": {
  "kernelspec": {
   "display_name": "Python 3 (ipykernel)",
   "language": "python",
   "name": "python3"
  },
  "language_info": {
   "codemirror_mode": {
    "name": "ipython",
    "version": 3
   },
   "file_extension": ".py",
   "mimetype": "text/x-python",
   "name": "python",
   "nbconvert_exporter": "python",
   "pygments_lexer": "ipython3",
   "version": "3.10.9"
  }
 },
 "nbformat": 4,
 "nbformat_minor": 5
}
