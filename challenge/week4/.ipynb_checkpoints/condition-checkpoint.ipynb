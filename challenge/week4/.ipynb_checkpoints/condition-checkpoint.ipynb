{
 "cells": [
  {
   "cell_type": "code",
   "execution_count": 3,
   "id": "7b4f0791",
   "metadata": {},
   "outputs": [
    {
     "name": "stdout",
     "output_type": "stream",
     "text": [
      "Is it raining? (Y/N)y\n",
      "Is it windy? (Y/N)1\n",
      "Incorrect Input\n"
     ]
    }
   ],
   "source": [
    "rain = input(\"Is it raining? (Y/N)\").lower()\n",
    "wind = input(\"Is it windy? (Y/N)\").lower()\n",
    "if (rain == 'y' or rain == 'n') and (wind == 'y' or wind == 'n'): # rain과 wind의 값이 x 또는 y 일때\n",
    "    if rain == 'y' and wind == 'y': \n",
    "        print(\"It is too windy for an umbrella\")\n",
    "    elif rain == 'y' and wind == 'n':\n",
    "        print(\"Take an umbrella\")\n",
    "    elif rain == 'n' and wind == 'y':\n",
    "        print(\"Pleas take a coat\")\n",
    "    else:\n",
    "        print(\"Have a nice day\")\n",
    "else: # rain과 wind의 값 중 x 또는 y 가 아닌 값이 있을때  \n",
    "    print(\"Incorrect Input\")           "
   ]
  },
  {
   "cell_type": "code",
   "execution_count": null,
   "id": "b1dd1b8e",
   "metadata": {},
   "outputs": [],
   "source": [
    "  "
   ]
  },
  {
   "cell_type": "code",
   "execution_count": null,
   "id": "3e9ff358",
   "metadata": {},
   "outputs": [],
   "source": []
  }
 ],
 "metadata": {
  "kernelspec": {
   "display_name": "Python 3 (ipykernel)",
   "language": "python",
   "name": "python3"
  },
  "language_info": {
   "codemirror_mode": {
    "name": "ipython",
    "version": 3
   },
   "file_extension": ".py",
   "mimetype": "text/x-python",
   "name": "python",
   "nbconvert_exporter": "python",
   "pygments_lexer": "ipython3",
   "version": "3.10.9"
  }
 },
 "nbformat": 4,
 "nbformat_minor": 5
}
