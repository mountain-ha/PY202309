{
 "cells": [
  {
   "cell_type": "markdown",
   "id": "4183be3a",
   "metadata": {},
   "source": [
    "### 1. 369 game"
   ]
  },
  {
   "cell_type": "code",
   "execution_count": 25,
   "id": "ca6f5cca",
   "metadata": {
    "scrolled": true
   },
   "outputs": [
    {
     "name": "stdout",
     "output_type": "stream",
     "text": [
      "1 2 짝! 4 5 짝! 7 8 짝! 짝! 11 12 짝! 14 15 짝! 17 18 짝! 짝! 21 22 짝! 24 25 짝! 27 28 짝! 짝! 짝! 짝! 짝!짝! 짝! 짝! 짝!짝! 짝! 짝! 짝!짝! 짝! 41 42 짝! 44 45 짝! 47 48 짝! 짝! 51 52 짝! 54 55 짝! 57 58 짝! 짝! 짝! 짝! 짝!짝! 짝! 짝! 짝!짝! 짝! 짝! 짝!짝! 짝! 71 72 짝! 74 75 짝! 77 78 짝! 짝! 81 82 짝! 84 85 짝! 87 88 짝! 짝! 짝! 짝! 짝!짝! 짝! 짝! 짝!짝! 짝! 짝! 짝!짝! \n"
     ]
    }
   ],
   "source": [
    "# 369 게임 작성\n",
    "s=\"\"\n",
    "for i in range(1,100):\n",
    "    if i<10 and i%3==0:\n",
    "        s=s+\"짝! \"\n",
    "    elif i>10 and (i//10)%3==0 and (i- 10*(i//10))%3==0  and (i- 10*(i//10))>0:\n",
    "         s=s+\"짝!짝! \"\n",
    "    elif i>10 and (i//10)%3==0 or (i- 10*(i//10))%3==0:\n",
    "         s=s+\"짝! \"       \n",
    "    else:   \n",
    "        s=s+str(i)+\" \"\n",
    "print(s)"
   ]
  },
  {
   "cell_type": "markdown",
   "id": "b4c4b245",
   "metadata": {},
   "source": [
    "### 2. Up & Down game"
   ]
  },
  {
   "cell_type": "code",
   "execution_count": null,
   "id": "351492c4",
   "metadata": {},
   "outputs": [
    {
     "name": "stdout",
     "output_type": "stream",
     "text": [
      "Enter the number1000\n",
      "범위 밖 숫자입니다.\n"
     ]
    }
   ],
   "source": [
    "# Up & Down 게임 작성\n",
    "import random\n",
    "answer = random.randint(1,100)\n",
    "i = 0\n",
    "while True:\n",
    "    num=int(input(\"Enter the number\"))\n",
    "    if  num == answer and 1<=num<=100:\n",
    "        print(f\"{i+1} 번째만에 정답을 맞췄습니다.\")\n",
    "        break\n",
    "    elif num>answer and 1<=num<=100:\n",
    "        print(\"Down!\")\n",
    "    elif num<answer and 1<=num<=100:\n",
    "        print(\"Up!\")\n",
    "    else:\n",
    "        print(\"범위 밖 숫자입니다.\")\n",
    "    i = i +1\n",
    "    if i== 10:\n",
    "        print(\"실패하였습니다. 정답은 %d입니다\",num)"
   ]
  },
  {
   "cell_type": "markdown",
   "id": "f8bc2ef1",
   "metadata": {},
   "source": [
    "### 3. Term frequency calculator"
   ]
  },
  {
   "cell_type": "code",
   "execution_count": 8,
   "id": "53387e36",
   "metadata": {
    "scrolled": true
   },
   "outputs": [
    {
     "name": "stdout",
     "output_type": "stream",
     "text": [
      "-----TF dictionary-----\n",
      "{'the': 3, 'quick': 1, 'brown': 1, 'fox': 1, 'jumps': 1, 'over': 1, 'lazy': 1, 'dog.': 1, 'a': 3, 'journey': 1, 'of': 2, 'thousand': 1, 'miles': 1, 'begins': 1, 'with': 1, 'single': 1, 'step.': 1, 'all': 1, 'that': 1, 'glitters': 1, 'is': 1, 'not': 1, 'gold.': 1, 'in': 1, 'middle': 1, 'difficulty': 1, 'lies': 1, 'opportunity.': 1, 'she': 1, 'likes': 1, 'to': 1, 'read': 1, 'books.': 1}\n",
      "-----Top-3 TF terms-----\n",
      "1 the 3 \n",
      "2 a 3 \n",
      "3 of 2 \n"
     ]
    }
   ],
   "source": [
    "import operator\n",
    "sentences = [\n",
    "    \"The quick brown fox jumps over the lazy dog.\",\n",
    "    \"A journey of a thousand miles begins with a single step.\",\n",
    "    \"All that glitters is not gold.\",    \n",
    "    \"In the middle of difficulty lies opportunity.\",\n",
    "    \"She likes to read books.\"\n",
    "]\n",
    "\n",
    "total_terms = set()\n",
    "terms_list = []\n",
    "\n",
    "# TODO 1: 토큰 집합 만들기\n",
    "for i in range(len(sentences)):\n",
    "    lower_sentences = sentences[i].lower()\n",
    "    terms_list += lower_sentences.split(\" \")\n",
    "total_terms = set(terms_list)\n",
    "               \n",
    "      \n",
    "term_frequency_dict = {} # 토큰 별 단어 빈도 저장할 딕셔너리\n",
    "# TODO 2: 토큰 별 단어 빈도를 딕셔너리에 저장\n",
    "for i in terms_list:\n",
    "    term_frequency_dict[i] = terms_list.count(i)\n",
    "    \n",
    "# 토큰 빈도 출력\n",
    "print(\"-----TF dictionary-----\")\n",
    "print(term_frequency_dict)\n",
    "\n",
    "\n",
    "print(\"-----Top-3 TF terms-----\")\n",
    "total_terms_list = dict= sorted(term_frequency_dict, key=term_frequency_dict.get, reverse = True)\n",
    "# TODO 3: Top-3 토큰 빈도를 갖는 단어의 순위, 단어, 빈도 출력 코드 작성\n",
    "rank = 1\n",
    "for i in total_terms_list:\n",
    "    print(f\"{rank} {i} {term_frequency_dict[i]} \")\n",
    "    if rank == 3: break\n",
    "    rank += 1\n"
   ]
  },
  {
   "cell_type": "markdown",
   "id": "a3bc479c",
   "metadata": {},
   "source": [
    "### 4. CSV-based grade manager"
   ]
  },
  {
   "cell_type": "code",
   "execution_count": 34,
   "id": "1cc504e8",
   "metadata": {},
   "outputs": [],
   "source": [
    "def getAverage(list):\n",
    "    sum=0\n",
    "    for i in len(list):\n",
    "        sum = sum + list[i]\n",
    "    average = sum/len(list)\n",
    "    return avarage\n",
    "lines = open(\"students.csv\",\"r\", encoding=\"utf8\").readlines()\n",
    "\n",
    "# TODO 1: 학생 정보를 딕셔너리에 저장\n",
    "dic = {}\n",
    "for i in range(len(lines)):\n",
    "    data = lines[i].split(\",\")\n",
    "    \n",
    "# TODO 2: 학생 별 평균 점수를 계산\n",
    "#getAverage() 를 이용해 평균 구하기\n",
    "\n"
   ]
  },
  {
   "cell_type": "code",
   "execution_count": null,
   "id": "0ceb4d09",
   "metadata": {},
   "outputs": [],
   "source": []
  }
 ],
 "metadata": {
  "kernelspec": {
   "display_name": "Python 3 (ipykernel)",
   "language": "python",
   "name": "python3"
  },
  "language_info": {
   "codemirror_mode": {
    "name": "ipython",
    "version": 3
   },
   "file_extension": ".py",
   "mimetype": "text/x-python",
   "name": "python",
   "nbconvert_exporter": "python",
   "pygments_lexer": "ipython3",
   "version": "3.10.9"
  }
 },
 "nbformat": 4,
 "nbformat_minor": 5
}
