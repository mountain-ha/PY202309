{
 "cells": [
  {
   "cell_type": "code",
   "execution_count": 2,
   "id": "433eddb3",
   "metadata": {},
   "outputs": [
    {
     "name": "stdout",
     "output_type": "stream",
     "text": [
      "영어 쿼리를 입력하세요.According to the folk tale, a man named Jack tricked the devil into climbing a tree\n",
      "rank\tIndex\tscore\tsentence\n",
      "1\t60\t0.8666666666666667\tAccording to the folk tale, a man named Jack tricked the devil into climbing a tree.\n",
      "2\t10\t0.16666666666666666\tInstead, the devil gave him a single candle to light his way through the darkness.\n",
      "3\t294\t0.15\tIn the fall of 1920, a man found the girl.\n",
      "4\t102\t0.14814814814814814\tWhile a man was planting the first grapevine ever, the devil came and asked him what he was doing.\n",
      "5\t362\t0.14285714285714285\tImagine putting a needle into your body to stop pain.\n",
      "6\t567\t0.14285714285714285\tThe lady sometimes had a boy carry a present to Swift.\n",
      "7\t644\t0.14285714285714285\tThe Korean Folk Village will serve as a living museum.\n",
      "8\t349\t0.13043478260869565\t\"Yes, sir!\" the man answered as he began to row away quickly.\n",
      "9\t565\t0.13043478260869565\tA woman wanted to know the time, but she didn't have a watch.\n",
      "10\t363\t0.12903225806451613\tAlso, they are expected to talk only about pleasant subjects while eating, and never to introduce a sad experience into the conversation.\n"
     ]
    }
   ],
   "source": [
    "import operator\n",
    "\n",
    "def preprocess(sentence):\n",
    "    preprocessed_sentence = sentence.strip().split(\" \") #입력받은 영어 쿼리를 공백을 기준으로 나눈 리스트로 만들기\n",
    "    return preprocessed_sentence\n",
    "\n",
    "def indexing(file_name):\n",
    "    file_tokens_pairs = [] #빈 리스트 \"file_tokens_pairs\" 만들기\n",
    "    lines = open(file_name, \"r\", encoding=\"utf8\").readlines()  #\"jhe-koen-dev.en\"파일 열기  \n",
    "    for line in lines:            \n",
    "        tokens = preprocess(line) #한 문장을 하나의 리스트로 하고 공백을 기준으로 문장을 나누어 원소로 만들기\n",
    "        file_tokens_pairs.append(tokens) #리스트 \"file_tokens_pairs\"에 바로 위에서 만들어진 리스트 추가하기\n",
    "    return file_tokens_pairs\n",
    "\n",
    "def calc_similarity(preprocessed_query, preprocessed_sentences):\n",
    "    score_dict = {} #각 문장의 인덱스와 유사도를 저장하기 위한 딕셔너리 생성\n",
    "    for i in range(len(preprocessed_sentences)):        \n",
    "        #대소문자 구분을 없에는 코드\n",
    "        sentence = preprocessed_sentences[i]\n",
    "        query_str = ' '.join(preprocessed_query).lower()\n",
    "        sentence_str = ' '.join(sentence).lower()\n",
    "        preprocessed_query = set(preprocess(query_str))\n",
    "        preprocessed_sentence = preprocess(sentence_str)            \n",
    "        \n",
    "        file_token_set = set(preprocessed_sentence)\n",
    "        all_tokens = preprocessed_query | file_token_set\n",
    "        same_tokens = preprocessed_query & file_token_set\n",
    "        similarity = len(same_tokens) / len(all_tokens) #두 집합의 교집합/합집합 으로 유사도 구하기\n",
    "        score_dict[i] = similarity\n",
    "    return score_dict\n",
    "\n",
    "# 1. Indexing\n",
    "file_name = \"jhe-koen-dev.en\"\n",
    "file_tokens_pairs = indexing(file_name)\n",
    "\n",
    "# 2. Input the query\n",
    "query = input(\"영어 쿼리를 입력하세요.\") #영어 쿼리 입력받기\n",
    "preprocessed_query = preprocess(query) #입력받은 영어 쿼리를 공백을 기준으로 나눈 리스트로 만들기\n",
    "query_token_set = set(preprocessed_query) #바로 위에서 만든 리스트를 집합의 형태로 바꿔서 \"query_token_set\"에 저장하기\n",
    "\n",
    "# 3. Calculate similarities based on a same token set\n",
    "score_dict = calc_similarity(query_token_set, file_tokens_pairs)\n",
    "    \n",
    "\n",
    "# 4. Sort the similarity list\n",
    "#유사도에 따라 내림차순으로 정렬한 리스트 생성\n",
    "sorted_score_list = sorted(score_dict.items(), key = operator.itemgetter(1), reverse=True)\n",
    "\n",
    "# 5. Print the result\n",
    "if sorted_score_list[0][1] == 0.0: #가장 높은 유사도가 0이면 \"There is no similar sentence.\"출력\n",
    "    print(\"There is no similar sentence.\")\n",
    "else:\n",
    "    print(\"rank\", \"Index\", \"score\", \"sentence\", sep = \"\\t\")\n",
    "    rank = 1\n",
    "    for i, score  in sorted_score_list: #유사도가 높은 순서대로 10개 출력\n",
    "        print(rank, i, score, ' '.join(file_tokens_pairs[i]), sep = \"\\t\")\n",
    "        if rank == 10:\n",
    "            break\n",
    "        rank = rank + 1"
   ]
  },
  {
   "cell_type": "code",
   "execution_count": null,
   "id": "724aaefc",
   "metadata": {},
   "outputs": [],
   "source": []
  },
  {
   "cell_type": "code",
   "execution_count": null,
   "id": "505d0baa",
   "metadata": {},
   "outputs": [],
   "source": []
  }
 ],
 "metadata": {
  "kernelspec": {
   "display_name": "Python 3 (ipykernel)",
   "language": "python",
   "name": "python3"
  },
  "language_info": {
   "codemirror_mode": {
    "name": "ipython",
    "version": 3
   },
   "file_extension": ".py",
   "mimetype": "text/x-python",
   "name": "python",
   "nbconvert_exporter": "python",
   "pygments_lexer": "ipython3",
   "version": "3.10.9"
  }
 },
 "nbformat": 4,
 "nbformat_minor": 5
}
